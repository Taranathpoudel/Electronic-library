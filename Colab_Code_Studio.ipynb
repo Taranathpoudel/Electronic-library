{
  "nbformat": 4,
  "nbformat_minor": 0,
  "metadata": {
    "colab": {
      "name": "Colab Code Studio.ipynb",
      "provenance": [],
      "authorship_tag": "ABX9TyMSiALB3TXTvot3WvT1o+Vl",
      "include_colab_link": true
    },
    "kernelspec": {
      "name": "python3",
      "display_name": "Python 3"
    },
    "language_info": {
      "name": "python"
    }
  },
  "cells": [
    {
      "cell_type": "markdown",
      "metadata": {
        "id": "view-in-github",
        "colab_type": "text"
      },
      "source": [
        "<a href=\"https://colab.research.google.com/github/Taranathpoudel/Electronic-library/blob/main/Colab_Code_Studio.ipynb\" target=\"_parent\"><img src=\"https://colab.research.google.com/assets/colab-badge.svg\" alt=\"Open In Colab\"/></a>"
      ]
    },
    {
      "cell_type": "code",
      "metadata": {
        "colab": {
          "base_uri": "https://localhost:8080/"
        },
        "id": "HXHt0atAIf5m",
        "outputId": "49424340-fc1a-44f3-fd3b-2663f5219efc"
      },
      "source": [
        "!pip install -q ColabCode"
      ],
      "execution_count": 1,
      "outputs": [
        {
          "output_type": "stream",
          "name": "stdout",
          "text": [
            "\u001b[K     |████████████████████████████████| 8.3 MB 5.1 MB/s \n",
            "\u001b[K     |████████████████████████████████| 745 kB 74.3 MB/s \n",
            "\u001b[K     |████████████████████████████████| 45 kB 3.1 MB/s \n",
            "\u001b[K     |████████████████████████████████| 428 kB 49.1 MB/s \n",
            "\u001b[K     |████████████████████████████████| 58 kB 5.4 MB/s \n",
            "\u001b[K     |████████████████████████████████| 393 kB 58.8 MB/s \n",
            "\u001b[K     |████████████████████████████████| 54 kB 3.2 MB/s \n",
            "\u001b[K     |████████████████████████████████| 52 kB 1.3 MB/s \n",
            "\u001b[K     |████████████████████████████████| 78 kB 5.9 MB/s \n",
            "\u001b[K     |████████████████████████████████| 125 kB 60.6 MB/s \n",
            "\u001b[K     |████████████████████████████████| 124 kB 45.1 MB/s \n",
            "\u001b[K     |████████████████████████████████| 124 kB 58.6 MB/s \n",
            "\u001b[K     |████████████████████████████████| 122 kB 59.6 MB/s \n",
            "\u001b[K     |████████████████████████████████| 122 kB 60.7 MB/s \n",
            "\u001b[K     |████████████████████████████████| 122 kB 58.3 MB/s \n",
            "\u001b[K     |████████████████████████████████| 122 kB 59.0 MB/s \n",
            "\u001b[K     |████████████████████████████████| 112 kB 53.7 MB/s \n",
            "\u001b[K     |████████████████████████████████| 69 kB 6.9 MB/s \n",
            "\u001b[?25h  Building wheel for pyngrok (setup.py) ... \u001b[?25l\u001b[?25hdone\n",
            "\u001b[31mERROR: pip's dependency resolver does not currently take into account all the packages that are installed. This behaviour is the source of the following dependency conflicts.\n",
            "google-colab 1.0.0 requires tornado~=5.1.0; python_version >= \"3.0\", but you have tornado 6.1 which is incompatible.\u001b[0m\n"
          ]
        }
      ]
    },
    {
      "cell_type": "code",
      "metadata": {
        "id": "C2cgukIQIp5U"
      },
      "source": [
        "from colabcode import ColabCode"
      ],
      "execution_count": 3,
      "outputs": []
    },
    {
      "cell_type": "code",
      "metadata": {
        "colab": {
          "base_uri": "https://localhost:8080/",
          "height": 968
        },
        "id": "oxZgQcziIyFa",
        "outputId": "ed75530e-277f-45d4-927d-fd55ca121e12"
      },
      "source": [
        "ColabCode(port=10000,\n",
        "          password=\"helloworld\")"
      ],
      "execution_count": 4,
      "outputs": [
        {
          "output_type": "stream",
          "name": "stdout",
          "text": [
            "Code Server can be accessed on: NgrokTunnel: \"https://8fe6-35-190-184-40.ngrok.io\" -> \"http://localhost:10000\"\n",
            "[2021-10-19T10:43:23.356Z] info  code-server 3.10.2 387b12ef4ca404ffd39d84834e1f0776e9e3c005\n",
            "[2021-10-19T10:43:23.358Z] info  Using user-data-dir ~/.local/share/code-server\n",
            "[2021-10-19T10:43:23.368Z] info  Using config file ~/.config/code-server/config.yaml\n",
            "[2021-10-19T10:43:23.368Z] info  HTTP server listening on http://127.0.0.1:10000 \n",
            "[2021-10-19T10:43:23.368Z] info    - Authentication is enabled\n",
            "[2021-10-19T10:43:23.368Z] info      - Using password from $PASSWORD\n",
            "[2021-10-19T10:43:23.368Z] info    - Not serving HTTPS \n",
            " INFO Installing extension: formulahendry.auto-complete-tag\n",
            " INFO Downloaded extension: formulahendry.auto-complete-tag /root/.local/share/code-server/CachedExtensionVSIXs/formulahendry.auto-complete-tag-0.2.0\n",
            " INFO Extracted extension to /root/.local/share/code-server/extensions/.4abd6fb1-e265-44ed-96db-63fad1a2c902: formulahendry.auto-complete-tag\n",
            " INFO Renamed to /root/.local/share/code-server/extensions/formulahendry.auto-complete-tag-0.2.0\n",
            " INFO Installation completed. formulahendry.auto-complete-tag\n",
            " INFO Installing extension: formulahendry.auto-rename-tag\n",
            " INFO Installing extension: formulahendry.auto-close-tag\n",
            " INFO Downloaded extension: formulahendry.auto-rename-tag /root/.local/share/code-server/CachedExtensionVSIXs/formulahendry.auto-rename-tag-0.1.0\n",
            " INFO Extracted extension to /root/.local/share/code-server/extensions/.0e65a264-b627-4182-b1fc-bf87f5cbffa7: formulahendry.auto-rename-tag\n",
            " INFO Renamed to /root/.local/share/code-server/extensions/formulahendry.auto-rename-tag-0.1.0\n",
            " INFO Installation completed. formulahendry.auto-rename-tag\n",
            " INFO Downloaded extension: formulahendry.auto-close-tag /root/.local/share/code-server/CachedExtensionVSIXs/formulahendry.auto-close-tag-0.5.5\n",
            " INFO Extensions installed successfully: formulahendry.auto-rename-tag\n",
            " INFO Extracted extension to /root/.local/share/code-server/extensions/.6984bcf3-ad1d-4fd7-9fbc-0869cedb32f6: formulahendry.auto-close-tag\n",
            " INFO Renamed to /root/.local/share/code-server/extensions/formulahendry.auto-close-tag-0.5.5\n",
            " INFO Installation completed. formulahendry.auto-close-tag\n",
            " INFO Extensions installed successfully: formulahendry.auto-close-tag\n",
            " INFO Extensions installed successfully: formulahendry.auto-complete-tag\n",
            " INFO Installing extension: weakish.complete-statement\n",
            " INFO Downloaded extension: weakish.complete-statement /root/.local/share/code-server/CachedExtensionVSIXs/weakish.complete-statement-0.4.0\n",
            " INFO Extracted extension to /root/.local/share/code-server/extensions/.eafb158a-d329-4f77-81d2-3b10133a1327: weakish.complete-statement\n",
            " INFO Renamed to /root/.local/share/code-server/extensions/weakish.complete-statement-0.4.0\n",
            " INFO Installation completed. weakish.complete-statement\n",
            " INFO Extensions installed successfully: weakish.complete-statement\n",
            "  ERR [File Watcher (chokidar)] Inotify limit reached (ENOSPC)\n",
            "  ERR [File Watcher (chokidar)] Inotify limit reached (ENOSPC)\n"
          ]
        },
        {
          "output_type": "error",
          "ename": "KeyboardInterrupt",
          "evalue": "ignored",
          "traceback": [
            "\u001b[0;31m---------------------------------------------------------------------------\u001b[0m",
            "\u001b[0;31mKeyboardInterrupt\u001b[0m                         Traceback (most recent call last)",
            "\u001b[0;32m<ipython-input-4-04a4de26e1c0>\u001b[0m in \u001b[0;36m<module>\u001b[0;34m()\u001b[0m\n\u001b[1;32m      1\u001b[0m ColabCode(port=10000,\n\u001b[0;32m----> 2\u001b[0;31m           password=\"helloworld\")\n\u001b[0m",
            "\u001b[0;32m/usr/local/lib/python3.7/dist-packages/colabcode/code.py\u001b[0m in \u001b[0;36m__init__\u001b[0;34m(self, port, password, authtoken, mount_drive, code, lab)\u001b[0m\n\u001b[1;32m     43\u001b[0m             \u001b[0mself\u001b[0m\u001b[0;34m.\u001b[0m\u001b[0m_install_extensions\u001b[0m\u001b[0;34m(\u001b[0m\u001b[0;34m)\u001b[0m\u001b[0;34m\u001b[0m\u001b[0;34m\u001b[0m\u001b[0m\n\u001b[1;32m     44\u001b[0m             \u001b[0mself\u001b[0m\u001b[0;34m.\u001b[0m\u001b[0m_start_server\u001b[0m\u001b[0;34m(\u001b[0m\u001b[0;34m)\u001b[0m\u001b[0;34m\u001b[0m\u001b[0;34m\u001b[0m\u001b[0m\n\u001b[0;32m---> 45\u001b[0;31m             \u001b[0mself\u001b[0m\u001b[0;34m.\u001b[0m\u001b[0m_run_code\u001b[0m\u001b[0;34m(\u001b[0m\u001b[0;34m)\u001b[0m\u001b[0;34m\u001b[0m\u001b[0;34m\u001b[0m\u001b[0m\n\u001b[0m\u001b[1;32m     46\u001b[0m \u001b[0;34m\u001b[0m\u001b[0m\n\u001b[1;32m     47\u001b[0m     \u001b[0;34m@\u001b[0m\u001b[0mstaticmethod\u001b[0m\u001b[0;34m\u001b[0m\u001b[0;34m\u001b[0m\u001b[0m\n",
            "\u001b[0;32m/usr/local/lib/python3.7/dist-packages/colabcode/code.py\u001b[0m in \u001b[0;36m_run_code\u001b[0;34m(self)\u001b[0m\n\u001b[1;32m    108\u001b[0m             \u001b[0muniversal_newlines\u001b[0m\u001b[0;34m=\u001b[0m\u001b[0;32mTrue\u001b[0m\u001b[0;34m,\u001b[0m\u001b[0;34m\u001b[0m\u001b[0;34m\u001b[0m\u001b[0m\n\u001b[1;32m    109\u001b[0m         ) as proc:\n\u001b[0;32m--> 110\u001b[0;31m             \u001b[0;32mfor\u001b[0m \u001b[0mline\u001b[0m \u001b[0;32min\u001b[0m \u001b[0mproc\u001b[0m\u001b[0;34m.\u001b[0m\u001b[0mstdout\u001b[0m\u001b[0;34m:\u001b[0m\u001b[0;34m\u001b[0m\u001b[0;34m\u001b[0m\u001b[0m\n\u001b[0m\u001b[1;32m    111\u001b[0m                 \u001b[0mprint\u001b[0m\u001b[0;34m(\u001b[0m\u001b[0mline\u001b[0m\u001b[0;34m,\u001b[0m \u001b[0mend\u001b[0m\u001b[0;34m=\u001b[0m\u001b[0;34m\"\"\u001b[0m\u001b[0;34m)\u001b[0m\u001b[0;34m\u001b[0m\u001b[0;34m\u001b[0m\u001b[0m\n\u001b[1;32m    112\u001b[0m \u001b[0;34m\u001b[0m\u001b[0m\n",
            "\u001b[0;31mKeyboardInterrupt\u001b[0m: "
          ]
        }
      ]
    }
  ]
}
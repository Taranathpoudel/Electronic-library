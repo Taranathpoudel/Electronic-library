{
  "nbformat": 4,
  "nbformat_minor": 0,
  "metadata": {
    "colab": {
      "name": "The Compound intrest.ipynb",
      "provenance": [],
      "authorship_tag": "ABX9TyOIubwBVhBpbOobXe5vfIH6",
      "include_colab_link": true
    },
    "kernelspec": {
      "name": "python3",
      "display_name": "Python 3"
    },
    "language_info": {
      "name": "python"
    }
  },
  "cells": [
    {
      "cell_type": "markdown",
      "metadata": {
        "id": "view-in-github",
        "colab_type": "text"
      },
      "source": [
        "<a href=\"https://colab.research.google.com/github/Taranathpoudel/Electronic-library/blob/main/The_Compound_intrest.ipynb\" target=\"_parent\"><img src=\"https://colab.research.google.com/assets/colab-badge.svg\" alt=\"Open In Colab\"/></a>"
      ]
    },
    {
      "cell_type": "markdown",
      "metadata": {
        "id": "yijzWDBkugG8"
      },
      "source": [
        "# Compound intrest is defined as the intrest of intrest"
      ]
    },
    {
      "cell_type": "markdown",
      "metadata": {
        "id": "_-1TWTKhuox8"
      },
      "source": [
        "**given P=4500; R=0.05; Time=3yrs CA=? CI=?\n",
        "**"
      ]
    },
    {
      "cell_type": "code",
      "metadata": {
        "colab": {
          "base_uri": "https://localhost:8080/"
        },
        "id": "gOQ4D2EKvDXS",
        "outputId": "0532d2b8-480d-41ed-b147-f000e5bbe9cd"
      },
      "source": [
        "import math\n",
        "p=4500\n",
        "r=0.05\n",
        "t=3\n",
        "ca=p*((1+r)**t)\n",
        "print('The compound amount: ',ca)\n",
        "ci=ca-p\n",
        "print('the compound intrest; ',ci)"
      ],
      "execution_count": 5,
      "outputs": [
        {
          "output_type": "stream",
          "name": "stdout",
          "text": [
            "The compound amount:  5209.312500000001\n",
            "the compound intrest;  709.3125000000009\n"
          ]
        }
      ]
    }
  ]
}
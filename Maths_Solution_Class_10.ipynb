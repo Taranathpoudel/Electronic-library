{
  "nbformat": 4,
  "nbformat_minor": 0,
  "metadata": {
    "colab": {
      "name": "Maths Solution Class 10.ipynb",
      "provenance": [],
      "authorship_tag": "ABX9TyPw7fJTqk8hGNVdUWL2G1QO",
      "include_colab_link": true
    },
    "kernelspec": {
      "name": "python3",
      "display_name": "Python 3"
    },
    "language_info": {
      "name": "python"
    }
  },
  "cells": [
    {
      "cell_type": "markdown",
      "metadata": {
        "id": "view-in-github",
        "colab_type": "text"
      },
      "source": [
        "<a href=\"https://colab.research.google.com/github/Taranathpoudel/Electronic-library/blob/main/Maths_Solution_Class_10.ipynb\" target=\"_parent\"><img src=\"https://colab.research.google.com/assets/colab-badge.svg\" alt=\"Open In Colab\"/></a>"
      ]
    },
    {
      "cell_type": "markdown",
      "metadata": {
        "id": "uAm21_QaY52f"
      },
      "source": [
        "# This is Programming solution of class 10 Maths"
      ]
    },
    {
      "cell_type": "markdown",
      "metadata": {
        "id": "g-ESSHesZBEv"
      },
      "source": [
        "**Starting From Taxes **"
      ]
    },
    {
      "cell_type": "code",
      "metadata": {
        "colab": {
          "base_uri": "https://localhost:8080/"
        },
        "id": "Sc8wLhW1ZH8Q",
        "outputId": "c8693c73-295c-4148-c0d8-2f599fd12009"
      },
      "source": [
        "# Given That\n",
        "# selling Price=Rs.6000\n",
        "# VAT= 13%\n",
        "\n",
        "import math\n",
        "SP=6000\n",
        "VAT=0.13\n",
        "Price=SP*VAT\n",
        "print('The VAT price= ',Price)\n"
      ],
      "execution_count": 4,
      "outputs": [
        {
          "output_type": "stream",
          "name": "stdout",
          "text": [
            "The VAT price=  780.0\n"
          ]
        }
      ]
    },
    {
      "cell_type": "markdown",
      "metadata": {
        "id": "kT-K6TY5aEkn"
      },
      "source": [
        "# Market Price= 5500\n",
        "Discount=10%\n",
        "VAT=13%"
      ]
    },
    {
      "cell_type": "code",
      "metadata": {
        "colab": {
          "base_uri": "https://localhost:8080/"
        },
        "id": "O9MHbsIpZN59",
        "outputId": "8ed7ea24-61d9-4ebd-a233-bf551bff584c"
      },
      "source": [
        "import math\n",
        "MP=5500\n",
        "Discount=0.10\n",
        "SP1=MP-Discount*MP\n",
        "value=SP1*VAT\n",
        "print('The VAT price= ',value)"
      ],
      "execution_count": 7,
      "outputs": [
        {
          "output_type": "stream",
          "name": "stdout",
          "text": [
            "The VAT price=  643.5\n"
          ]
        }
      ]
    }
  ]
}
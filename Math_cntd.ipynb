{
  "nbformat": 4,
  "nbformat_minor": 0,
  "metadata": {
    "colab": {
      "name": "Math cntd.ipynb",
      "provenance": [],
      "authorship_tag": "ABX9TyPcF5XCaOEqZ6BSudu2mQc9",
      "include_colab_link": true
    },
    "kernelspec": {
      "name": "python3",
      "display_name": "Python 3"
    },
    "language_info": {
      "name": "python"
    }
  },
  "cells": [
    {
      "cell_type": "markdown",
      "metadata": {
        "id": "view-in-github",
        "colab_type": "text"
      },
      "source": [
        "<a href=\"https://colab.research.google.com/github/Taranathpoudel/Electronic-library/blob/main/Math_cntd.ipynb\" target=\"_parent\"><img src=\"https://colab.research.google.com/assets/colab-badge.svg\" alt=\"Open In Colab\"/></a>"
      ]
    },
    {
      "cell_type": "markdown",
      "metadata": {
        "id": "OecvYOT1yFMH"
      },
      "source": [
        "# Discount=10%\n",
        "VAT=13%\n",
        "and costumer pays 15255 find Marketed price"
      ]
    },
    {
      "cell_type": "code",
      "metadata": {
        "colab": {
          "base_uri": "https://localhost:8080/"
        },
        "id": "4w0Ty4zPyToD",
        "outputId": "2f7282d5-4317-47b3-ccaa-a7cf20dc71d0"
      },
      "source": [
        "import math\n",
        "# let d=discount rate v=vat rate\n",
        "\n",
        "d=0.10\n",
        "v=0.13\n",
        "k=15255\n",
        "# let MP = x\n",
        "# Price after discount y = x - d of x\n",
        "# price after vat k = y + v of y\n",
        "\n",
        "y=k/(1+v)\n",
        "x=y/(1-d)\n",
        "\n",
        "print(\"Marketed  Price: \",x)\n",
        "\n"
      ],
      "execution_count": 2,
      "outputs": [
        {
          "output_type": "stream",
          "name": "stdout",
          "text": [
            "Marketed  Price:  15000.000000000002\n"
          ]
        }
      ]
    },
    {
      "cell_type": "markdown",
      "metadata": {
        "id": "6ii2a3-_0ohL"
      },
      "source": [
        "# Price of Machine without 13% vat= 150000 sold to Astha suppliers\n",
        "# astha suppliers has to pay transporation fee= 4000, and has profit = 7000 by selling it to a local costumer astha also pays local tax of 1500\n",
        "\n",
        "# Find The total amount paid by the last coustumer if VAT is added"
      ]
    },
    {
      "cell_type": "code",
      "metadata": {
        "colab": {
          "base_uri": "https://localhost:8080/"
        },
        "id": "ISB3h0l41adB",
        "outputId": "908fc3f2-c5f0-46d2-bca0-6408b7aeae4d"
      },
      "source": [
        "# let initial price be i\n",
        "import math\n",
        "i=150000\n",
        "v=0.13\n",
        "#price with vat be pv1\n",
        "pv1=i+i*v\n",
        "\n",
        "print('Total price paid by astha to distributor: ',pv1)\n",
        "\n",
        "# let transportation fee be t and profit be p\n",
        "# let local tax be tx\n",
        "t=4000\n",
        "p=7000\n",
        "tx=1500\n",
        "\n",
        "k=pv1+t+p+tx\n",
        "\n",
        "vatp=k*v\n",
        "\n",
        "vatp\n",
        "\n"
      ],
      "execution_count": 4,
      "outputs": [
        {
          "output_type": "stream",
          "name": "stdout",
          "text": [
            "Total price paid by astha to distributor:  169500.0\n"
          ]
        },
        {
          "output_type": "execute_result",
          "data": {
            "text/plain": [
              "23660.0"
            ]
          },
          "metadata": {},
          "execution_count": 4
        }
      ]
    }
  ]
}